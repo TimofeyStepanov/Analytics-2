{
 "cells": [
  {
   "metadata": {},
   "cell_type": "markdown",
   "source": [
    "### Я взял код с пары.\n",
    "\n",
    "\n",
    "\n",
    "Метрики оставил те же, а именно:\n",
    "\n",
    "MAE (Mean Absolute Error) — средняя абсолютная ошибка модели, вычисляемая как среднее разниц между фактическими и предсказанными значениями.\n",
    "\n",
    "MAE_baseline — MAE базовой модели, которая всегда предсказывает среднее значение целевой переменной на обучающих данных.\n",
    "\n",
    "MAE_shift — MAE наивной модели, использующей правило \"следующее значение равно предыдущему\" (прогноз последнего известного значения).\n",
    "\n",
    "same_direction_ratio — доля случаев, когда модель правильно предсказывает направление изменения (рост/падение) по сравнению с предыдущим значением\n",
    "\n",
    "\n",
    "### Самые лучшие метрики дал KFold с RandomForest\n",
    "'mae': 1.1070635220125786 с 'mae_baseline': 1.1080811676753288\n"
   ],
   "id": "3f317ce9fc1475f6"
  },
  {
   "metadata": {
    "ExecuteTime": {
     "end_time": "2025-05-10T07:28:06.349071Z",
     "start_time": "2025-05-10T07:28:06.343957Z"
    }
   },
   "cell_type": "code",
   "source": [
    "from datetime import datetime\n",
    "\n",
    "import numpy as np\n",
    "import pandas as pd\n",
    "from catboost import CatBoostRegressor\n",
    "from sklearn.linear_model import LinearRegression\n",
    "from sklearn.linear_model import Ridge\n",
    "from sklearn.metrics import mean_absolute_error, mean_squared_error\n",
    "from sklearn.model_selection import train_test_split, TimeSeriesSplit, KFold\n",
    "from sklearn.preprocessing import StandardScaler\n",
    "from sklearn.ensemble import RandomForestRegressor\n"
   ],
   "id": "93b7017d9ee43ca6",
   "outputs": [],
   "execution_count": 19
  },
  {
   "metadata": {
    "ExecuteTime": {
     "end_time": "2025-05-10T07:28:06.407107Z",
     "start_time": "2025-05-10T07:28:06.396844Z"
    }
   },
   "cell_type": "code",
   "source": "df = pd.read_csv('./data/processed/mart.csv')",
   "id": "95d62c7275df017d",
   "outputs": [],
   "execution_count": 20
  },
  {
   "metadata": {},
   "cell_type": "markdown",
   "source": "Возьмем линейную регрессию",
   "id": "81196419ea9aaedb"
  },
  {
   "metadata": {
    "ExecuteTime": {
     "end_time": "2025-05-10T07:28:06.432121Z",
     "start_time": "2025-05-10T07:28:06.414117Z"
    }
   },
   "cell_type": "code",
   "source": [
    "df_1 = df.dropna()\n",
    "\n",
    "# Определение целевой переменной и признаков\n",
    "df_1 = df_1.drop(columns=['Unnamed: 0'])\n",
    "target = 'raw_mix.lab.measure.sito_009'\n",
    "features = df_1.columns[df_1.columns != target]\n",
    "\n",
    "# Разделение данных\n",
    "X = df_1[features]\n",
    "y = df_1[target]\n",
    "X_train, X_test, y_train, y_test = train_test_split(X, y, test_size=0.2, random_state=42, shuffle=False)\n",
    "\n",
    "# Скалирование данных\n",
    "scaler = StandardScaler()\n",
    "X_train_scaled = scaler.fit_transform(X_train)\n",
    "X_test_scaled = scaler.transform(X_test)\n",
    "# Построение модели\n",
    "model = LinearRegression()\n",
    "\n",
    "model.fit(X_train_scaled, y_train)\n",
    "\n",
    "# Оценка модели\n",
    "y_pred = model.predict(X_test_scaled)\n",
    "\n",
    "mse = mean_squared_error(y_test, y_pred)\n",
    "mae = mean_absolute_error(y_test, y_pred)\n",
    "mae_baseline = mean_absolute_error(y_test, np.full_like(y_test, y_test.mean()))\n",
    "mae_baseline_shift = mean_absolute_error(y_test[:-1], y_test[1:])\n",
    "\n",
    "# Вычисление разностей для реальных и предсказанных значений\n",
    "y_test_diff = y_test[1:].values - y_test[:-1].values\n",
    "y_pred_diff = y_pred[1:] - y_pred[:-1]\n",
    "# Подсчет доли сонаправленных изменений\n",
    "same_direction = np.sum((y_test_diff * y_pred_diff) > 0) / len(y_test_diff)\n",
    "\n",
    "print({\n",
    "    # 'features': list(features),\n",
    "    'metrics': {\n",
    "        'mae': float(mae),\n",
    "        'mae_baseline': float(mae_baseline),\n",
    "        'mae_baseline_shift': float(mae_baseline_shift),\n",
    "        'same_direction_ratio': float(same_direction),\n",
    "        'mse': float(mse)\n",
    "    }\n",
    "})"
   ],
   "id": "92d9dd7d61e7bed0",
   "outputs": [
    {
     "name": "stdout",
     "output_type": "stream",
     "text": [
      "{'metrics': {'mae': 1.0623615668067694, 'mae_baseline': 0.9656721536351165, 'mae_baseline_shift': 1.1934579439252333, 'same_direction_ratio': 0.4766355140186916, 'mse': 1.926608927658215}}\n"
     ]
    }
   ],
   "execution_count": 21
  },
  {
   "metadata": {},
   "cell_type": "markdown",
   "source": "Теперь возьмем TimeSeriesSplit с различными моделями",
   "id": "d6df02ac7e417c81"
  },
  {
   "metadata": {
    "ExecuteTime": {
     "end_time": "2025-05-10T07:28:06.485183Z",
     "start_time": "2025-05-10T07:28:06.472860Z"
    }
   },
   "cell_type": "code",
   "source": [
    "def evaluate_models(df, target_col, models_dict):\n",
    "    df_clean = df.dropna()\n",
    "    features = df_clean.columns[df_clean.columns != target_col].tolist()\n",
    "\n",
    "    tscv = TimeSeriesSplit(n_splits=10)\n",
    "    results = {}\n",
    "\n",
    "    for model_name, model in models_dict.items():\n",
    "        mae_scores, mse_scores, direction_ratios = [], [], []\n",
    "\n",
    "        for train_index, test_index in tscv.split(df_clean):\n",
    "            X_train, X_test = df_clean[features].iloc[train_index], df_clean[features].iloc[test_index]\n",
    "            y_train, y_test = df_clean[target_col].iloc[train_index], df_clean[target_col].iloc[test_index]\n",
    "\n",
    "            scaler = StandardScaler()\n",
    "            X_train_scaled = scaler.fit_transform(X_train)\n",
    "            X_test_scaled = scaler.transform(X_test)\n",
    "\n",
    "            model.fit(X_train_scaled, y_train)\n",
    "            y_pred = model.predict(X_test_scaled)\n",
    "\n",
    "            mae_scores.append(mean_absolute_error(y_test, y_pred))\n",
    "            mse_scores.append(mean_squared_error(y_test, y_pred))\n",
    "\n",
    "            # роверка направления изменений\n",
    "            if len(y_test) > 1 and len(y_pred) > 1:\n",
    "                y_test_diff = y_test[1:].values - y_test[:-1].values\n",
    "                y_pred_diff = y_pred[1:] - y_pred[:-1]\n",
    "                direction_ratios.append(np.mean((y_test_diff * y_pred_diff) > 0))\n",
    "\n",
    "        avg_mae = np.mean(mae_scores)\n",
    "        avg_mse = np.mean(mse_scores)\n",
    "        avg_direction = np.mean(direction_ratios) if direction_ratios else 0.0\n",
    "\n",
    "\n",
    "        last_baseline = mean_absolute_error(y_test, np.full_like(y_test, y_test.mean()))\n",
    "        last_baseline_shift = mean_absolute_error(y_test[:-1], y_test[1:]) if len(y_test) > 1 else 0.0\n",
    "\n",
    "        results[model_name] = {\n",
    "            'metrics': {\n",
    "                'mae': float(avg_mae),\n",
    "                'mse': float(avg_mse),\n",
    "                'same_direction_ratio': float(avg_direction),\n",
    "                'mae_baseline': float(last_baseline),\n",
    "                'mae_baseline_shift': float(last_baseline_shift)\n",
    "            }\n",
    "        }\n",
    "\n",
    "    return results"
   ],
   "id": "3286bd9abf68c05e",
   "outputs": [],
   "execution_count": 22
  },
  {
   "metadata": {
    "ExecuteTime": {
     "end_time": "2025-05-10T07:28:09.809925Z",
     "start_time": "2025-05-10T07:28:06.579075Z"
    }
   },
   "cell_type": "code",
   "source": [
    "df_2 = df.dropna()\n",
    "target = 'raw_mix.lab.measure.sito_009'\n",
    "features = df_2.columns[df_2.columns != target].tolist()\n",
    "\n",
    "models_to_test = {\n",
    "    \"LinearRegression\": LinearRegression(),\n",
    "    \"RandomForest\": RandomForestRegressor(n_estimators=100, random_state=42)\n",
    "}\n",
    "\n",
    "results_2 = evaluate_models(df, target_col=\"raw_mix.lab.measure.sito_009\", models_dict=models_to_test)\n",
    "print(results_2)"
   ],
   "id": "8cfa5c1e8bba44f2",
   "outputs": [
    {
     "name": "stdout",
     "output_type": "stream",
     "text": [
      "{'LinearRegression': {'metrics': {'mae': 1.3857594171483325, 'mse': 3.201154344739918, 'same_direction_ratio': 0.4770833333333334, 'mae_baseline': 0.9729279466888794, 'mae_baseline_shift': 1.1208333333333331}}, 'RandomForest': {'metrics': {'mae': 1.2131122448979592, 'mse': 2.387568679591836, 'same_direction_ratio': 0.5229166666666667, 'mae_baseline': 0.9729279466888794, 'mae_baseline_shift': 1.1208333333333331}}}\n"
     ]
    }
   ],
   "execution_count": 23
  },
  {
   "metadata": {},
   "cell_type": "markdown",
   "source": "Теперь возьмем KFold с различными моделями",
   "id": "fe43b2fcdf041f59"
  },
  {
   "metadata": {
    "ExecuteTime": {
     "end_time": "2025-05-10T07:29:29.061596Z",
     "start_time": "2025-05-10T07:29:29.052508Z"
    }
   },
   "cell_type": "code",
   "source": [
    "def evaluate_models_kfold(df, target_col, models_dict, n_splits=10, shuffle=True, random_state=42):\n",
    "    df_clean = df.dropna()\n",
    "    features = df_clean.columns[df_clean.columns != target_col].tolist()\n",
    "\n",
    "    kf = KFold(n_splits=n_splits, shuffle=shuffle, random_state=random_state)\n",
    "    results = {}\n",
    "\n",
    "    for model_name, model in models_dict.items():\n",
    "        mae_scores, mse_scores, direction_ratios = [], [], []\n",
    "\n",
    "        for train_index, test_index in kf.split(df_clean):\n",
    "            X_train, X_test = df_clean[features].iloc[train_index], df_clean[features].iloc[test_index]\n",
    "            y_train, y_test = df_clean[target_col].iloc[train_index], df_clean[target_col].iloc[test_index]\n",
    "\n",
    "            scaler = StandardScaler()\n",
    "            X_train_scaled = scaler.fit_transform(X_train)\n",
    "            X_test_scaled = scaler.transform(X_test)\n",
    "\n",
    "            model.fit(X_train_scaled, y_train)\n",
    "            y_pred = model.predict(X_test_scaled)\n",
    "\n",
    "            mae_scores.append(mean_absolute_error(y_test, y_pred))\n",
    "            mse_scores.append(mean_squared_error(y_test, y_pred))\n",
    "\n",
    "            # роверка направления изменений\n",
    "            if len(y_test) > 1 and len(y_pred) > 1:\n",
    "                y_test_diff = y_test[1:].values - y_test[:-1].values\n",
    "                y_pred_diff = y_pred[1:] - y_pred[:-1]\n",
    "                direction_ratios.append(np.mean((y_test_diff * y_pred_diff) > 0))\n",
    "\n",
    "        avg_mae = np.mean(mae_scores)\n",
    "        avg_mse = np.mean(mse_scores)\n",
    "        avg_direction = np.mean(direction_ratios) if direction_ratios else 0.0\n",
    "\n",
    "        last_baseline = mean_absolute_error(y_test, np.full_like(y_test, y_test.mean()))\n",
    "        last_baseline_shift = mean_absolute_error(y_test[:-1], y_test[1:]) if len(y_test) > 1 else 0.0\n",
    "\n",
    "        results[model_name] = {\n",
    "            'metrics': {\n",
    "                'mae': float(avg_mae),\n",
    "                'mse': float(avg_mse),\n",
    "                'same_direction_ratio': float(avg_direction),\n",
    "                'mae_baseline': float(last_baseline),\n",
    "                'mae_baseline_shift': float(last_baseline_shift)\n",
    "            },\n",
    "            'timestamp': datetime.now().strftime('%Y%m%d_%H%M%S')\n",
    "        }\n",
    "    return results\n"
   ],
   "id": "66c1c979b44afddb",
   "outputs": [],
   "execution_count": 26
  },
  {
   "metadata": {
    "ExecuteTime": {
     "end_time": "2025-05-10T07:31:58.774961Z",
     "start_time": "2025-05-10T07:31:53.548383Z"
    }
   },
   "cell_type": "code",
   "source": [
    "df_3 = df.dropna()\n",
    "\n",
    "models_to_test = {\n",
    "    \"LinearRegression\": LinearRegression(),\n",
    "    \"RandomForest\": RandomForestRegressor(n_estimators=100, random_state=42)\n",
    "}\n",
    "\n",
    "# Запуск оценки с KFold\n",
    "results_3 = evaluate_models_kfold(\n",
    "    df_3,\n",
    "    target_col=\"raw_mix.lab.measure.sito_009\",\n",
    "    models_dict=models_to_test,\n",
    "    n_splits=10,\n",
    "    shuffle=True,\n",
    "    random_state=42\n",
    ")\n",
    "print(results_3)"
   ],
   "id": "cc11a135ee7b815f",
   "outputs": [
    {
     "name": "stdout",
     "output_type": "stream",
     "text": [
      "{'LinearRegression': {'metrics': {'mae': 1.1754031762502613, 'mse': 2.09444400638355, 'same_direction_ratio': 0.572677793904209, 'mae_baseline': 1.1080811676753288, 'mae_baseline_shift': 1.4288461538461539}, 'timestamp': '20250510_103153'}, 'RandomForest': {'metrics': {'mae': 1.1070635220125786, 'mse': 1.905746439552761, 'same_direction_ratio': 0.5654208998548621, 'mae_baseline': 1.1080811676753288, 'mae_baseline_shift': 1.4288461538461539}, 'timestamp': '20250510_103158'}}\n"
     ]
    }
   ],
   "execution_count": 29
  }
 ],
 "metadata": {
  "kernelspec": {
   "display_name": "Python 3",
   "language": "python",
   "name": "python3"
  },
  "language_info": {
   "codemirror_mode": {
    "name": "ipython",
    "version": 2
   },
   "file_extension": ".py",
   "mimetype": "text/x-python",
   "name": "python",
   "nbconvert_exporter": "python",
   "pygments_lexer": "ipython2",
   "version": "2.7.6"
  }
 },
 "nbformat": 4,
 "nbformat_minor": 5
}
